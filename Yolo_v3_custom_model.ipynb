{
  "cells": [
    {
      "cell_type": "code",
      "execution_count": null,
      "metadata": {
        "id": "R8-hnkp-jdZO"
      },
      "outputs": [],
      "source": [
        "# mount the google drive\n",
        "from google.colab import drive\n",
        "drive.mount('/content/drive')\n",
        "!nvidia-smi"
      ]
    },
    {
      "cell_type": "code",
      "execution_count": null,
      "metadata": {
        "id": "ReyxYzEP4loA"
      },
      "outputs": [],
      "source": [
        "# # changing current directory to the google drive\n",
        "%cd '/content/drive/My Drive'\n",
        "\n",
        "# # cloning darknet repo, this will create a folder, darknet\n",
        "!git clone https://github.com/AlexeyAB/darknet \n",
        "\n",
        "# # going to the darknet folder and getting the weights\n",
        "%cd darknet\n",
        "!wget http://pjreddie.com/media/files/darknet53.conv.74\n",
        "\n",
        "# # make changes in the Makefile to use GPU for training\n",
        "!sed -i 's/OPENCV=0/OPENCV=1/' Makefile\n",
        "!sed -i 's/GPU=0/GPU=1/' Makefile\n",
        "!sed -i 's/CUDNN=0/CUDNN=1/' Makefile\n",
        "\n",
        "# # compiling\n",
        "!make"
      ]
    },
    {
      "cell_type": "code",
      "execution_count": null,
      "metadata": {
        "id": "OLD4OOzyE2kF"
      },
      "outputs": [],
      "source": [
        "%cd '/content/drive/My Drive/darknet'\n",
        "\n",
        "# unzipping custom data to data folder\n",
        "! unzip -uq Racing_Bikes/custom_data.zip -d data\n",
        "\n",
        "# copying the below files to data folder\n",
        "! cp Racing_Bikes/classes.names data\n",
        "! cp Racing_Bikes/obj.data.txt data\n",
        "! cp Racing_Bikes/train.txt data\n",
        "! cp Racing_Bikes/test.txt data\n",
        "# copying the config files to cfg folder\n",
        "! cp Racing_Bikes/yolov3_custom_train.cfg cfg\n",
        "! cp Racing_Bikes/yolov3_custom_test.cfg cfg"
      ]
    },
    {
      "cell_type": "code",
      "execution_count": null,
      "metadata": {
        "id": "hyJFZsyMMpV7"
      },
      "outputs": [],
      "source": [
        "# begin training by running this cell\n",
        "%cd '/content/drive/My Drive/darknet'\n",
        "! ./darknet detector train data/obj.data.txt cfg/yolov3_custom_train.cfg darknet53.conv.74 -dont_show\n",
        "\n",
        "# this will create weight files in backup folder inside darknet\n",
        "# when the training is completed, you'll see a file named\n",
        "#yolov3_custom_train_final.weights"
      ]
    },
    {
      "cell_type": "code",
      "execution_count": null,
      "metadata": {
        "id": "iMrYmw67-f_j"
      },
      "outputs": [],
      "source": [
        "# # if the training stopped for whatever reason, \n",
        "# # just run this cell to restart the training from the last check point\n",
        "%cd '/content/drive/My Drive/darknet'\n",
        "! ./darknet detector train data/obj.data.txt cfg/yolov3_custom_train.cfg backup/yolov3_custom_train_last.weights -dont_show"
      ]
    },
    {
      "cell_type": "code",
      "source": [
        "%cd '/content/drive/My Drive/darknet'"
      ],
      "metadata": {
        "id": "1KdY8k6knz8P"
      },
      "execution_count": null,
      "outputs": []
    },
    {
      "cell_type": "code",
      "execution_count": null,
      "metadata": {
        "id": "O7GrCPTslBMF"
      },
      "outputs": [],
      "source": [
        "# to test model with images, upload the images in the darknet folder\n",
        "# this way you'll only have to write the name of the image instead of the entire path \n",
        "! ./darknet detector test data/obj.data.txt cfg/yolov3_custom_test.cfg backup/yolov3_custom_train_final.weights /content/drive/MyDrive/darknet/data/pic5.png -thresh 0.2\n",
        "\n",
        "# this will create a image, 'predictions.jpg' in the darknet folder"
      ]
    },
    {
      "cell_type": "code",
      "execution_count": null,
      "metadata": {
        "id": "-DnZws6jS3wM"
      },
      "outputs": [],
      "source": [
        "# to check the predictions\n",
        "from PIL import Image\n",
        "\n",
        "im=Image.open('predictions.jpg')\n",
        "im.resize((640,480))"
      ]
    },
    {
      "cell_type": "code",
      "source": [
        "#run model on video data\n",
        "import cv2\n",
        "import numpy as np\n",
        "from google.colab.patches import cv2_imshow\n",
        "net = cv2.dnn.readNet('/content/drive/MyDrive/darknet/backup/yolov3_custom_train_final.weights', '/content/drive/MyDrive/darknet/cfg/yolov3_custom_test.cfg')\n",
        "\n",
        "classes = []\n",
        "with open(\"/content/drive/MyDrive/darknet/data/classes.names\", \"r\") as f:\n",
        "    classes = f.read().splitlines()\n",
        "\n",
        "cap = cv2.VideoCapture('/content/drive/MyDrive/darknet/Bike_racing.mkv')\n",
        "font = cv2.FONT_HERSHEY_PLAIN\n",
        "colors = np.random.uniform(0, 255, size=(100, 3))\n",
        "\n",
        "while True:\n",
        "    _, img = cap.read()\n",
        "    height, width, _ = img.shape\n",
        "\n",
        "    blob = cv2.dnn.blobFromImage(img, 1/255, (416, 416), (0,0,0), swapRB=True, crop=False)\n",
        "    net.setInput(blob)\n",
        "    output_layers_names = net.getUnconnectedOutLayersNames()\n",
        "    layerOutputs = net.forward(output_layers_names)\n",
        "\n",
        "    boxes = []\n",
        "    confidences = []\n",
        "    class_ids = []\n",
        "\n",
        "    for output in layerOutputs:\n",
        "        for detection in output:\n",
        "            scores = detection[5:]\n",
        "            class_id = np.argmax(scores)\n",
        "            confidence = scores[class_id]\n",
        "            if confidence > 0.2:\n",
        "                center_x = int(detection[0]*width)\n",
        "                center_y = int(detection[1]*height)\n",
        "                w = int(detection[2]*width)\n",
        "                h = int(detection[3]*height)\n",
        "\n",
        "                x = int(center_x - w/2)\n",
        "                y = int(center_y - h/2)\n",
        "\n",
        "                boxes.append([x, y, w, h])\n",
        "                confidences.append((float(confidence)))\n",
        "                class_ids.append(class_id)\n",
        "\n",
        "    indexes = cv2.dnn.NMSBoxes(boxes, confidences, 0.2, 0.4)\n",
        "\n",
        "    if len(indexes)>0:\n",
        "        for i in indexes.flatten():\n",
        "            x, y, w, h = boxes[i]\n",
        "            label = str(classes[class_ids[i]])\n",
        "            confidence = str(round(confidences[i],2))\n",
        "            color = colors[i]\n",
        "            cv2.rectangle(img, (x,y), (x+w, y+h), color, 2)\n",
        "            cv2.putText(img, label + \" \" + confidence, (x, y+20), font, 2, (255,255,255), 2)\n",
        "\n",
        "    cv2_imshow(img)\n",
        "    key = cv2.waitKey(1)\n",
        "    if key==1:\n",
        "        break\n",
        "\n",
        "cap.release()\n",
        "cv2.destroyAllWindows()"
      ],
      "metadata": {
        "id": "b0GGv1e1H27u"
      },
      "execution_count": null,
      "outputs": []
    },
    {
      "cell_type": "markdown",
      "source": [
        ""
      ],
      "metadata": {
        "id": "wGaL2j9YJdPP"
      }
    }
  ],
  "metadata": {
    "accelerator": "GPU",
    "colab": {
      "collapsed_sections": [],
      "name": "Yolo_v3_custom.ipynb",
      "provenance": []
    },
    "kernelspec": {
      "display_name": "Python 3",
      "name": "python3"
    },
    "language_info": {
      "name": "python"
    }
  },
  "nbformat": 4,
  "nbformat_minor": 0
}